{
  "nbformat": 4,
  "nbformat_minor": 0,
  "metadata": {
    "colab": {
      "name": "DDS_Intro_to_Python.ipynb",
      "provenance": [],
      "collapsed_sections": [
        "ZPsNWR_Z47WJ",
        "srlLEz43KAcV",
        "FN1bv45CH7bx",
        "R2IIZDk7yeMF",
        "2ZbQRBnM4WRp",
        "_iUyvDMh-Ok-",
        "IZqiOMuM-Vkp",
        "j5VFQyg5IHEh",
        "xPlRcNXQWrk-",
        "9oZ1utRseXRb",
        "pn21nfsFeqwP",
        "aSoFTbiDj3QU",
        "tVQKs9Xlj5Jb",
        "TiPF3rwLyEOe",
        "uDcQ26DxpRiC",
        "w5GqMPYeRWTN",
        "xrzojd74agVW",
        "3MWlwIv9PjNE"
      ],
      "include_colab_link": true
    },
    "kernelspec": {
      "name": "python3",
      "display_name": "Python 3"
    }
  },
  "cells": [
    {
      "cell_type": "markdown",
      "metadata": {
        "id": "view-in-github",
        "colab_type": "text"
      },
      "source": [
        "<a href=\"https://colab.research.google.com/github/ewileywiley/test-repo/blob/master/DDS_Intro_to_Python.ipynb\" target=\"_parent\"><img src=\"https://colab.research.google.com/assets/colab-badge.svg\" alt=\"Open In Colab\"/></a>"
      ]
    },
    {
      "cell_type": "markdown",
      "metadata": {
        "id": "sU1XYHCttK6F",
        "colab_type": "text"
      },
      "source": [
        "<center>\n",
        "<img src=\"https://drive.google.com/uc?export=view&id=1i1_Glu8nhZPHh9S5PSq16JIBmligAA_x\"  alt=\"drawing\" height=\"100\"/>\n",
        "<br><br>\n",
        " <img src=\"https://drive.google.com/uc?export=view&id=1C3xcWyRHizAnjfs1j_NZnYalapqQ-Lrq\"  alt=\"drawing\" height=\"150\"/>\n",
        "  \n",
        "</center>\n"
      ]
    },
    {
      "cell_type": "markdown",
      "metadata": {
        "id": "KFw2DOYKA4oF",
        "colab_type": "text"
      },
      "source": [
        "# Introduction to Python\n",
        "\n",
        "## Kimberly Fessel\n",
        " <img src=\"https://drive.google.com/uc?export=view&id=1Pf8dKUyMFbdBN4lm7PHoobtqAr6vZqPN\"  alt=\"drawing\" height=\"15\"/> @KimberlyFessel\n",
        "\n",
        "---\n",
        "\n",
        "## Coding in General\n",
        "- Skill that requires practice\n",
        "- Experimentation accelerates learning process\n",
        "\n",
        "## Python\n",
        "- One of world's most popular languages\n",
        "- Design encourages simplicity and readability\n",
        "- Robust language that easily integrates with other software components\n",
        "- Object-oriented programming\n",
        "\n",
        "## Google Colab/Jupyter Notebooks\n",
        "- Executes Python code on the fly\n",
        "- Interactivity allows for instant feedback\n",
        "- Memory persists across cells\n",
        "- `shift+enter` \n",
        "- Use [markdown](https://blog.ghost.org/markdown/) (TEXT) mode for adding text like this"
      ]
    },
    {
      "cell_type": "markdown",
      "metadata": {
        "id": "CEXIzkPiVGMX",
        "colab_type": "text"
      },
      "source": [
        "# \"Hello, World!\""
      ]
    },
    {
      "cell_type": "markdown",
      "metadata": {
        "id": "zddmwuub1OM0",
        "colab_type": "text"
      },
      "source": [
        ">**Run the follow cell by clicking on the play button or by pressing `shift+enter`.**"
      ]
    },
    {
      "cell_type": "code",
      "metadata": {
        "id": "U8gYzQ8SVFTz",
        "colab_type": "code",
        "outputId": "4f02c4f4-1311-4643-f524-1eca9c7516b1",
        "colab": {
          "base_uri": "https://localhost:8080/",
          "height": 34
        }
      },
      "source": [
        "print('Hello, World!')"
      ],
      "execution_count": 0,
      "outputs": [
        {
          "output_type": "stream",
          "text": [
            "Hello, World!\n"
          ],
          "name": "stdout"
        }
      ]
    },
    {
      "cell_type": "markdown",
      "metadata": {
        "id": "xOPyO9jw25NX",
        "colab_type": "text"
      },
      "source": [
        "The `print` statement can interpret\n",
        "- Single quotes\n",
        "- Double quotes\n",
        "- Three single quotes"
      ]
    },
    {
      "cell_type": "code",
      "metadata": {
        "id": "kTYenDjdmTru",
        "colab_type": "code",
        "outputId": "f6bf92cf-ff41-4693-fd40-75267d745ab1",
        "colab": {
          "base_uri": "https://localhost:8080/",
          "height": 34
        }
      },
      "source": [
        "print(\"That's fun!\")"
      ],
      "execution_count": 0,
      "outputs": [
        {
          "output_type": "stream",
          "text": [
            "That's fun!\n"
          ],
          "name": "stdout"
        }
      ]
    },
    {
      "cell_type": "code",
      "metadata": {
        "id": "41mOQtlxmebC",
        "colab_type": "code",
        "outputId": "d41b70b4-53a9-43a9-e5dd-4bca65b04ce2",
        "colab": {
          "base_uri": "https://localhost:8080/",
          "height": 34
        }
      },
      "source": [
        "print('''The instructor remarked, \"That's fun! Welcome to Python.\"''')"
      ],
      "execution_count": 0,
      "outputs": [
        {
          "output_type": "stream",
          "text": [
            "The instructor remarked, \"That's fun! Welcome to Python.\"\n"
          ],
          "name": "stdout"
        }
      ]
    },
    {
      "cell_type": "markdown",
      "metadata": {
        "id": "y1ZqLa594g_T",
        "colab_type": "text"
      },
      "source": [
        "We can also save some text to a variable and then print it later.  \n",
        "\n",
        "Saving information requires us to use a valid variable name and  `=`  to indicate assigment."
      ]
    },
    {
      "cell_type": "code",
      "metadata": {
        "id": "xCFFpUbbmfaZ",
        "colab_type": "code",
        "colab": {}
      },
      "source": [
        "message = \"Hello, World!\""
      ],
      "execution_count": 0,
      "outputs": []
    },
    {
      "cell_type": "code",
      "metadata": {
        "id": "ppwO1o2m4KPz",
        "colab_type": "code",
        "outputId": "2e0a40d4-d044-4768-8989-7ca02ff4f033",
        "colab": {
          "base_uri": "https://localhost:8080/",
          "height": 34
        }
      },
      "source": [
        "print(message)"
      ],
      "execution_count": 0,
      "outputs": [
        {
          "output_type": "stream",
          "text": [
            "Hello, World!\n"
          ],
          "name": "stdout"
        }
      ]
    },
    {
      "cell_type": "markdown",
      "metadata": {
        "id": "ZPsNWR_Z47WJ",
        "colab_type": "text"
      },
      "source": [
        "# Data Types\n",
        "\n",
        "Data types let your computer know how process and store the variables you create."
      ]
    },
    {
      "cell_type": "markdown",
      "metadata": {
        "id": "p2GsDxPw49ra",
        "colab_type": "text"
      },
      "source": [
        " Below we will check the type of several values and variables using `type()`."
      ]
    },
    {
      "cell_type": "code",
      "metadata": {
        "id": "1KyTIHcr4x56",
        "colab_type": "code",
        "outputId": "827b3463-9134-4d93-e460-02009734c05a",
        "colab": {
          "base_uri": "https://localhost:8080/",
          "height": 34
        }
      },
      "source": [
        "type(message)"
      ],
      "execution_count": 0,
      "outputs": [
        {
          "output_type": "execute_result",
          "data": {
            "text/plain": [
              "str"
            ]
          },
          "metadata": {
            "tags": []
          },
          "execution_count": 7
        }
      ]
    },
    {
      "cell_type": "code",
      "metadata": {
        "id": "jzS2GjqsvITf",
        "colab_type": "code",
        "outputId": "3a926bc0-8a45-4109-8a7e-94291103d5e4",
        "colab": {
          "base_uri": "https://localhost:8080/",
          "height": 34
        }
      },
      "source": [
        "type('A long phrase with numbers like 22, punctuation, and even an emoji! 😄')"
      ],
      "execution_count": 0,
      "outputs": [
        {
          "output_type": "execute_result",
          "data": {
            "text/plain": [
              "str"
            ]
          },
          "metadata": {
            "tags": []
          },
          "execution_count": 8
        }
      ]
    },
    {
      "cell_type": "code",
      "metadata": {
        "id": "0GTBB2QcPS1W",
        "colab_type": "code",
        "outputId": "89e24817-2e96-4b5b-961c-d9cc30a05642",
        "colab": {
          "base_uri": "https://localhost:8080/",
          "height": 34
        }
      },
      "source": [
        "type(42)"
      ],
      "execution_count": 0,
      "outputs": [
        {
          "output_type": "execute_result",
          "data": {
            "text/plain": [
              "int"
            ]
          },
          "metadata": {
            "tags": []
          },
          "execution_count": 9
        }
      ]
    },
    {
      "cell_type": "code",
      "metadata": {
        "id": "aMMGQgaLvcGM",
        "colab_type": "code",
        "outputId": "1512bda0-6562-4cc9-9b78-2024ea78634e",
        "colab": {
          "base_uri": "https://localhost:8080/",
          "height": 34
        }
      },
      "source": [
        "val = 4.21\n",
        "\n",
        "type(val)"
      ],
      "execution_count": 0,
      "outputs": [
        {
          "output_type": "execute_result",
          "data": {
            "text/plain": [
              "float"
            ]
          },
          "metadata": {
            "tags": []
          },
          "execution_count": 10
        }
      ]
    },
    {
      "cell_type": "markdown",
      "metadata": {
        "id": "30Jjcq_MIYnc",
        "colab_type": "text"
      },
      "source": [
        "<img src=\"https://drive.google.com/uc?export=view&id=1mDXyzfvmROIx9YcFBqHRiY9WH5_JKQif\"  alt=\"drawing\" height=\"20\"/> \n",
        "Unlike some other programming languages, we don't need to tell the code what our variable's *type* will be in advance.  Python automatically interprets this for us.\n",
        "\n",
        "However, we can change Python's defaults by being explicit."
      ]
    },
    {
      "cell_type": "code",
      "metadata": {
        "id": "6DBLSs7XJ7C0",
        "colab_type": "code",
        "outputId": "5dac8593-8ee2-4973-e6dd-01d8da46f526",
        "colab": {
          "base_uri": "https://localhost:8080/",
          "height": 34
        }
      },
      "source": [
        "i = 4\n",
        "\n",
        "type(i)"
      ],
      "execution_count": 0,
      "outputs": [
        {
          "output_type": "execute_result",
          "data": {
            "text/plain": [
              "int"
            ]
          },
          "metadata": {
            "tags": []
          },
          "execution_count": 11
        }
      ]
    },
    {
      "cell_type": "code",
      "metadata": {
        "id": "u7d6lKuzKd0B",
        "colab_type": "code",
        "outputId": "6c00a559-a713-4bb4-8a05-5f9dd79b9777",
        "colab": {
          "base_uri": "https://localhost:8080/",
          "height": 34
        }
      },
      "source": [
        "f = float(i)\n",
        "\n",
        "print(f)"
      ],
      "execution_count": 0,
      "outputs": [
        {
          "output_type": "stream",
          "text": [
            "4.0\n"
          ],
          "name": "stdout"
        }
      ]
    },
    {
      "cell_type": "code",
      "metadata": {
        "id": "wI13_tglKhXJ",
        "colab_type": "code",
        "outputId": "63bb9e92-c704-4f86-abb9-3b81cbe44f77",
        "colab": {
          "base_uri": "https://localhost:8080/",
          "height": 34
        }
      },
      "source": [
        "type(f)"
      ],
      "execution_count": 0,
      "outputs": [
        {
          "output_type": "execute_result",
          "data": {
            "text/plain": [
              "float"
            ]
          },
          "metadata": {
            "tags": []
          },
          "execution_count": 13
        }
      ]
    },
    {
      "cell_type": "markdown",
      "metadata": {
        "id": "8KkoOn6UKahr",
        "colab_type": "text"
      },
      "source": [
        "Lastly, the Boolean data type can only take on two values, which are denoted in Python as `True` or `False` _(more on this in Conditionals)_."
      ]
    },
    {
      "cell_type": "code",
      "metadata": {
        "id": "B4IlPC68KzY5",
        "colab_type": "code",
        "outputId": "bac4e692-d5e2-4c80-a902-d11bbb550991",
        "colab": {
          "base_uri": "https://localhost:8080/",
          "height": 34
        }
      },
      "source": [
        "type(False)"
      ],
      "execution_count": 0,
      "outputs": [
        {
          "output_type": "execute_result",
          "data": {
            "text/plain": [
              "bool"
            ]
          },
          "metadata": {
            "tags": []
          },
          "execution_count": 14
        }
      ]
    },
    {
      "cell_type": "markdown",
      "metadata": {
        "id": "srlLEz43KAcV",
        "colab_type": "text"
      },
      "source": [
        "# Lists\n",
        "\n",
        "In Python lists are used to store multiple values.  Lists allow you to:\n",
        "- Store related information\n",
        "- Edit them whenever you want\n",
        "- Access information by index\n",
        "- Use them in `for` loops\n",
        "\n",
        "Lists are constructed with two outer square brackets."
      ]
    },
    {
      "cell_type": "code",
      "metadata": {
        "id": "dERkCUm4J7AN",
        "colab_type": "code",
        "outputId": "35d2f040-3a11-460a-e00c-4be357f34757",
        "colab": {
          "base_uri": "https://localhost:8080/",
          "height": 34
        }
      },
      "source": [
        "greetings_list = ['Hi', 'Hello', 'Welcome']\n",
        "\n",
        "greetings_list"
      ],
      "execution_count": 0,
      "outputs": [
        {
          "output_type": "execute_result",
          "data": {
            "text/plain": [
              "['Hi', 'Hello', 'Welcome']"
            ]
          },
          "metadata": {
            "tags": []
          },
          "execution_count": 15
        }
      ]
    },
    {
      "cell_type": "code",
      "metadata": {
        "id": "y7_fMpvINRDk",
        "colab_type": "code",
        "outputId": "d0f15478-5a70-4d70-91e5-7d86ec55fff1",
        "colab": {
          "base_uri": "https://localhost:8080/",
          "height": 34
        }
      },
      "source": [
        "type(greetings_list)"
      ],
      "execution_count": 0,
      "outputs": [
        {
          "output_type": "execute_result",
          "data": {
            "text/plain": [
              "list"
            ]
          },
          "metadata": {
            "tags": []
          },
          "execution_count": 16
        }
      ]
    },
    {
      "cell_type": "code",
      "metadata": {
        "id": "1TL4xO1TNRLN",
        "colab_type": "code",
        "outputId": "1772186d-55cc-46fc-e016-8ad01d24b47e",
        "colab": {
          "base_uri": "https://localhost:8080/",
          "height": 34
        }
      },
      "source": [
        "greetings_list.append('Good afternoon!')\n",
        "\n",
        "greetings_list"
      ],
      "execution_count": 0,
      "outputs": [
        {
          "output_type": "execute_result",
          "data": {
            "text/plain": [
              "['Hi', 'Hello', 'Welcome', 'Good afternoon!']"
            ]
          },
          "metadata": {
            "tags": []
          },
          "execution_count": 17
        }
      ]
    },
    {
      "cell_type": "code",
      "metadata": {
        "id": "uUBlZFggNiiX",
        "colab_type": "code",
        "outputId": "c797044e-dff3-426e-b595-4884b665cd24",
        "colab": {
          "base_uri": "https://localhost:8080/",
          "height": 34
        }
      },
      "source": [
        "greetings_list.pop()\n",
        "\n",
        "greetings_list"
      ],
      "execution_count": 0,
      "outputs": [
        {
          "output_type": "execute_result",
          "data": {
            "text/plain": [
              "['Hi', 'Hello', 'Welcome']"
            ]
          },
          "metadata": {
            "tags": []
          },
          "execution_count": 18
        }
      ]
    },
    {
      "cell_type": "markdown",
      "metadata": {
        "id": "aSIwym7vJCFB",
        "colab_type": "text"
      },
      "source": [
        "To get the number of elements in a list, use the `len()` function, as in length."
      ]
    },
    {
      "cell_type": "code",
      "metadata": {
        "id": "iCUpAx5FJJh6",
        "colab_type": "code",
        "outputId": "e41ba5e7-0b6f-4feb-852c-cd792c1cb2d9",
        "colab": {
          "base_uri": "https://localhost:8080/",
          "height": 34
        }
      },
      "source": [
        "len(greetings_list)"
      ],
      "execution_count": 0,
      "outputs": [
        {
          "output_type": "execute_result",
          "data": {
            "text/plain": [
              "3"
            ]
          },
          "metadata": {
            "tags": []
          },
          "execution_count": 19
        }
      ]
    },
    {
      "cell_type": "markdown",
      "metadata": {
        "id": "2AT-vpvnNJ9s",
        "colab_type": "text"
      },
      "source": [
        "<img src=\"https://drive.google.com/uc?export=view&id=1qUilPF2P2-vxkHW3izVH1_GdrTGq2kvk\"  alt=\"drawing\" height=\"25\"/> \n",
        "**Exercise #1 - Building a List**  _(Solutions to all exercises provide at bottom.)_\n",
        "> Make a list called `my_favorites` that contains three of your favorite things.  Then verify you have made a list by using `type`.\n"
      ]
    },
    {
      "cell_type": "code",
      "metadata": {
        "id": "Zy_byETUPeai",
        "colab_type": "code",
        "colab": {}
      },
      "source": [
        "my_favorites = ['data', 'dogs', 'summertime']"
      ],
      "execution_count": 0,
      "outputs": []
    },
    {
      "cell_type": "code",
      "metadata": {
        "id": "WaR2r4ZzQQM-",
        "colab_type": "code",
        "outputId": "b19e4155-fa21-491e-e53c-4dbd5416803a",
        "colab": {
          "base_uri": "https://localhost:8080/",
          "height": 34
        }
      },
      "source": [
        "type(my_favorites)"
      ],
      "execution_count": 0,
      "outputs": [
        {
          "output_type": "execute_result",
          "data": {
            "text/plain": [
              "list"
            ]
          },
          "metadata": {
            "tags": []
          },
          "execution_count": 21
        }
      ]
    },
    {
      "cell_type": "markdown",
      "metadata": {
        "id": "YpvoSvgR44OG",
        "colab_type": "text"
      },
      "source": [
        "## Indexing\n",
        "\n",
        "Python knows two things about each element in a list:\n",
        "1. The element's value\n",
        "2. The element's position (starting from 0 and counting up)\n",
        "\n",
        "The 0th position of `greetings_list` holds the string 'Hi'."
      ]
    },
    {
      "cell_type": "code",
      "metadata": {
        "id": "lbJZAIwbNiVQ",
        "colab_type": "code",
        "outputId": "4ccfc274-dde3-4adc-cf79-7837e3f3daa0",
        "colab": {
          "base_uri": "https://localhost:8080/",
          "height": 34
        }
      },
      "source": [
        "greetings_list[0]"
      ],
      "execution_count": 0,
      "outputs": [
        {
          "output_type": "execute_result",
          "data": {
            "text/plain": [
              "'Hi'"
            ]
          },
          "metadata": {
            "tags": []
          },
          "execution_count": 22
        }
      ]
    },
    {
      "cell_type": "code",
      "metadata": {
        "id": "n8F7JRTeO_RC",
        "colab_type": "code",
        "outputId": "d608c41c-6dc7-4426-b471-7b65981e0f27",
        "colab": {
          "base_uri": "https://localhost:8080/",
          "height": 34
        }
      },
      "source": [
        "greetings_list[1]"
      ],
      "execution_count": 0,
      "outputs": [
        {
          "output_type": "execute_result",
          "data": {
            "text/plain": [
              "'Hello'"
            ]
          },
          "metadata": {
            "tags": []
          },
          "execution_count": 23
        }
      ]
    },
    {
      "cell_type": "code",
      "metadata": {
        "id": "Z2eNjTENPTNo",
        "colab_type": "code",
        "outputId": "210664d7-5e2a-42d5-df87-1c968c2d27d3",
        "colab": {
          "base_uri": "https://localhost:8080/",
          "height": 34
        }
      },
      "source": [
        "greetings_list[2]"
      ],
      "execution_count": 0,
      "outputs": [
        {
          "output_type": "execute_result",
          "data": {
            "text/plain": [
              "'Welcome'"
            ]
          },
          "metadata": {
            "tags": []
          },
          "execution_count": 24
        }
      ]
    },
    {
      "cell_type": "markdown",
      "metadata": {
        "id": "_cOb0okVPvdf",
        "colab_type": "text"
      },
      "source": [
        "<img src=\"https://drive.google.com/uc?export=view&id=1mDXyzfvmROIx9YcFBqHRiY9WH5_JKQif\"  alt=\"drawing\" height=\"20\"/>   Indexing in Python always starts with the number 0, which is different than some other languages."
      ]
    },
    {
      "cell_type": "markdown",
      "metadata": {
        "id": "D6BO4Z-sPeWe",
        "colab_type": "text"
      },
      "source": [
        "## Mixed Lists\n",
        "\n",
        "Lists can hold data types other than just strings."
      ]
    },
    {
      "cell_type": "code",
      "metadata": {
        "id": "YgDwIwItPUl4",
        "colab_type": "code",
        "outputId": "d5b1d00c-4e67-4017-b9e6-cbf560880963",
        "colab": {
          "base_uri": "https://localhost:8080/",
          "height": 34
        }
      },
      "source": [
        "list_of_integers = [2, 10, 11, 5]\n",
        "\n",
        "list_of_integers"
      ],
      "execution_count": 0,
      "outputs": [
        {
          "output_type": "execute_result",
          "data": {
            "text/plain": [
              "[2, 10, 11, 5]"
            ]
          },
          "metadata": {
            "tags": []
          },
          "execution_count": 25
        }
      ]
    },
    {
      "cell_type": "code",
      "metadata": {
        "id": "bJ1vkiSfQW_q",
        "colab_type": "code",
        "outputId": "2b76d1aa-816d-435b-d8bc-7897fb7a0b6b",
        "colab": {
          "base_uri": "https://localhost:8080/",
          "height": 34
        }
      },
      "source": [
        "list_of_floats = [-1.1, 20.88, 0.0]\n",
        "\n",
        "list_of_floats"
      ],
      "execution_count": 0,
      "outputs": [
        {
          "output_type": "execute_result",
          "data": {
            "text/plain": [
              "[-1.1, 20.88, 0.0]"
            ]
          },
          "metadata": {
            "tags": []
          },
          "execution_count": 26
        }
      ]
    },
    {
      "cell_type": "code",
      "metadata": {
        "id": "v1ujZR4DQmtx",
        "colab_type": "code",
        "outputId": "52aceabb-1c34-45f3-ec1c-67a9af07fd59",
        "colab": {
          "base_uri": "https://localhost:8080/",
          "height": 34
        }
      },
      "source": [
        "mixed_list = ['Hi', 33, -29.116, 'Bye!']\n",
        "\n",
        "mixed_list"
      ],
      "execution_count": 0,
      "outputs": [
        {
          "output_type": "execute_result",
          "data": {
            "text/plain": [
              "['Hi', 33, -29.116, 'Bye!']"
            ]
          },
          "metadata": {
            "tags": []
          },
          "execution_count": 27
        }
      ]
    },
    {
      "cell_type": "markdown",
      "metadata": {
        "id": "SOjtuBkdLylR",
        "colab_type": "text"
      },
      "source": [
        "## Looping\n",
        "\n",
        "We can also loop over the items in our list to perform the same operations on each element."
      ]
    },
    {
      "cell_type": "code",
      "metadata": {
        "id": "Jv2-2qQgQtXn",
        "colab_type": "code",
        "outputId": "07a23952-51ef-4865-97ef-b1ca5db07d77",
        "colab": {
          "base_uri": "https://localhost:8080/",
          "height": 101
        }
      },
      "source": [
        "numbers = [1, 2, 3, 4, 5]\n",
        "\n",
        "for number in numbers:\n",
        "  print(number)"
      ],
      "execution_count": 0,
      "outputs": [
        {
          "output_type": "stream",
          "text": [
            "1\n",
            "2\n",
            "3\n",
            "4\n",
            "5\n"
          ],
          "name": "stdout"
        }
      ]
    },
    {
      "cell_type": "markdown",
      "metadata": {
        "id": "Ht6PulR3TIx4",
        "colab_type": "text"
      },
      "source": [
        "Note that `for` loops start with a `for` statement ending in a colon and continue indented on the next line.  \n",
        "\n",
        "<img src=\"https://drive.google.com/uc?export=view&id=1tNN-gkNrhOhF4bVhmGHrrsRdNtkTPY52\"  alt=\"drawing\" height=\"20\"/>  The indentation is important!  That's how Python knows what is part of the loop and what is not.  Let's see another."
      ]
    },
    {
      "cell_type": "code",
      "metadata": {
        "id": "jAc_ZFUNTD3d",
        "colab_type": "code",
        "outputId": "88182d44-b486-4270-b771-1d27f99c5d24",
        "colab": {
          "base_uri": "https://localhost:8080/",
          "height": 67
        }
      },
      "source": [
        "for g in greetings_list:\n",
        "  print(g + ', Attendees!')"
      ],
      "execution_count": 0,
      "outputs": [
        {
          "output_type": "stream",
          "text": [
            "Hi, Attendees!\n",
            "Hello, Attendees!\n",
            "Welcome, Attendees!\n"
          ],
          "name": "stdout"
        }
      ]
    },
    {
      "cell_type": "markdown",
      "metadata": {
        "id": "zX6CvqbBUFhV",
        "colab_type": "text"
      },
      "source": [
        "In the above example, we cycled through each string greeting and added it to the attendees string to print three string greetings.\n",
        "\n",
        "We could also add all the elements of a list together using a loop.  We just need to initialize `our_sum` to be zero."
      ]
    },
    {
      "cell_type": "code",
      "metadata": {
        "id": "DWj07ptMT46J",
        "colab_type": "code",
        "outputId": "5fb714b7-3e03-492b-e21b-7ba022d7b4f5",
        "colab": {
          "base_uri": "https://localhost:8080/",
          "height": 34
        }
      },
      "source": [
        "our_sum = 0\n",
        "\n",
        "for number in numbers:\n",
        "  our_sum = our_sum + number\n",
        "\n",
        "print(our_sum)"
      ],
      "execution_count": 0,
      "outputs": [
        {
          "output_type": "stream",
          "text": [
            "15\n"
          ],
          "name": "stdout"
        }
      ]
    },
    {
      "cell_type": "markdown",
      "metadata": {
        "id": "lEp5VBsAC3EO",
        "colab_type": "text"
      },
      "source": [
        "Python has a special function called `range` that you can use to simply loop over integer values.  Let's see it in action."
      ]
    },
    {
      "cell_type": "code",
      "metadata": {
        "id": "g0-8z6StVGtD",
        "colab_type": "code",
        "outputId": "1f294503-9571-468f-8564-47a2cda54a63",
        "colab": {
          "base_uri": "https://localhost:8080/",
          "height": 134
        }
      },
      "source": [
        "for i in range(7):\n",
        "  print(i)"
      ],
      "execution_count": 0,
      "outputs": [
        {
          "output_type": "stream",
          "text": [
            "0\n",
            "1\n",
            "2\n",
            "3\n",
            "4\n",
            "5\n",
            "6\n"
          ],
          "name": "stdout"
        }
      ]
    },
    {
      "cell_type": "markdown",
      "metadata": {
        "id": "2reXBhmzDf2-",
        "colab_type": "text"
      },
      "source": [
        "<img src=\"https://drive.google.com/uc?export=view&id=1mDXyzfvmROIx9YcFBqHRiY9WH5_JKQif\"  alt=\"drawing\" height=\"20\"/>   Calling `range(7)` returns 7 values but starts from 0.  This means the number 7 will not be returned. "
      ]
    },
    {
      "cell_type": "markdown",
      "metadata": {
        "id": "wFQy3D7ERXD3",
        "colab_type": "text"
      },
      "source": [
        "<img src=\"https://drive.google.com/uc?export=view&id=1qUilPF2P2-vxkHW3izVH1_GdrTGq2kvk\"  alt=\"drawing\" height=\"25\"/> \n",
        "**Exercise #2 - Looping through a List** \n",
        "> Loop through your `my_favorites` list to print three sentences about the things you like.  For each item in your list you should print, \"I like `item`.\""
      ]
    },
    {
      "cell_type": "code",
      "metadata": {
        "id": "hILGVudexIQ4",
        "colab_type": "code",
        "outputId": "cd94703b-9203-4d77-b6fb-f71bd48c9c11",
        "colab": {
          "base_uri": "https://localhost:8080/",
          "height": 67
        }
      },
      "source": [
        "for item in my_favorites:\n",
        "  i = item\n",
        "  print('I like ' + i + '.')"
      ],
      "execution_count": 0,
      "outputs": [
        {
          "output_type": "stream",
          "text": [
            "I like data.\n",
            "I like dogs.\n",
            "I like summertime.\n"
          ],
          "name": "stdout"
        }
      ]
    },
    {
      "cell_type": "code",
      "metadata": {
        "id": "uO8J_3uDVTaQ",
        "colab_type": "code",
        "colab": {}
      },
      "source": [
        ""
      ],
      "execution_count": 0,
      "outputs": []
    },
    {
      "cell_type": "markdown",
      "metadata": {
        "id": "FN1bv45CH7bx",
        "colab_type": "text"
      },
      "source": [
        "### Nested Loops\n",
        "\n",
        "Now let's use `range` to demonstrate a nested for loop."
      ]
    },
    {
      "cell_type": "code",
      "metadata": {
        "id": "eig4vY-RVfrS",
        "colab_type": "code",
        "outputId": "7ff0900d-69f2-4a8c-f030-d2303fd92848",
        "colab": {
          "base_uri": "https://localhost:8080/",
          "height": 353
        }
      },
      "source": [
        "for i in range(5):\n",
        "  print('i = ', i)\n",
        "  for j in range(3):\n",
        "    print('   j = ', j)"
      ],
      "execution_count": 0,
      "outputs": [
        {
          "output_type": "stream",
          "text": [
            "i =  0\n",
            "   j =  0\n",
            "   j =  1\n",
            "   j =  2\n",
            "i =  1\n",
            "   j =  0\n",
            "   j =  1\n",
            "   j =  2\n",
            "i =  2\n",
            "   j =  0\n",
            "   j =  1\n",
            "   j =  2\n",
            "i =  3\n",
            "   j =  0\n",
            "   j =  1\n",
            "   j =  2\n",
            "i =  4\n",
            "   j =  0\n",
            "   j =  1\n",
            "   j =  2\n"
          ],
          "name": "stdout"
        }
      ]
    },
    {
      "cell_type": "markdown",
      "metadata": {
        "id": "4k9KowpGEyfY",
        "colab_type": "text"
      },
      "source": [
        "With a nested `for` loop, we see that the outer loop (index `i`) only increments once it gets to the bottom on the indented code.  That is, the inner loop (index `j`) runs from top to bottom EVERYTIME the outer loop is called. "
      ]
    },
    {
      "cell_type": "markdown",
      "metadata": {
        "id": "R2IIZDk7yeMF",
        "colab_type": "text"
      },
      "source": [
        "## Slicing Lists\n",
        "\n",
        "Ordered collections, like lists, can be sliced using bracket notation.  This style takes up to three arguments, each of which are separated by colons:\n",
        "\n",
        "`a_list_slice = a_list[start:stop:skip]`\n",
        "\n",
        "Let's build a test list and try a few slices."
      ]
    },
    {
      "cell_type": "code",
      "metadata": {
        "id": "-Vf45LZMEeaC",
        "colab_type": "code",
        "colab": {}
      },
      "source": [
        "a_list = ['alpha', 'beta', 'gamma', 'delta', 'epsilon']"
      ],
      "execution_count": 0,
      "outputs": []
    },
    {
      "cell_type": "markdown",
      "metadata": {
        "id": "21-QC6L63Bpx",
        "colab_type": "text"
      },
      "source": [
        "Now slicing to return just the first two elements of the list:"
      ]
    },
    {
      "cell_type": "code",
      "metadata": {
        "id": "RlICtjlZ2_Hy",
        "colab_type": "code",
        "outputId": "9a3734fc-1a13-4128-982a-af98837a315a",
        "colab": {
          "base_uri": "https://localhost:8080/",
          "height": 34
        }
      },
      "source": [
        "a_list[0:2]"
      ],
      "execution_count": 0,
      "outputs": [
        {
          "output_type": "execute_result",
          "data": {
            "text/plain": [
              "['alpha', 'beta']"
            ]
          },
          "metadata": {
            "tags": []
          },
          "execution_count": 37
        }
      ]
    },
    {
      "cell_type": "markdown",
      "metadata": {
        "id": "-TKSyxr73I51",
        "colab_type": "text"
      },
      "source": [
        "<img src=\"https://drive.google.com/uc?export=view&id=1mDXyzfvmROIx9YcFBqHRiY9WH5_JKQif\"  alt=\"drawing\" height=\"20\"/>    The elements returned start at index 0 and go up to (but do not include) index 2.\n",
        "\n",
        "What if we want the _last_ two elements?"
      ]
    },
    {
      "cell_type": "code",
      "metadata": {
        "id": "be4qC2vE3Hf0",
        "colab_type": "code",
        "outputId": "2beaa6e9-dcb2-4fb6-9261-5a633390c876",
        "colab": {
          "base_uri": "https://localhost:8080/",
          "height": 34
        }
      },
      "source": [
        "a_list[-2:]"
      ],
      "execution_count": 0,
      "outputs": [
        {
          "output_type": "execute_result",
          "data": {
            "text/plain": [
              "['delta', 'epsilon']"
            ]
          },
          "metadata": {
            "tags": []
          },
          "execution_count": 38
        }
      ]
    },
    {
      "cell_type": "markdown",
      "metadata": {
        "id": "GZrq4SZG3ntx",
        "colab_type": "text"
      },
      "source": [
        "The negative means we are counting from the end of the list.  We didn't specify an ending point, so Python assumes we want all the elements that follow.\n",
        "\n",
        "And what if we want every other element, starting with the element at index 1?"
      ]
    },
    {
      "cell_type": "code",
      "metadata": {
        "id": "6yghlGgM3k-_",
        "colab_type": "code",
        "outputId": "ad483630-e1fe-431e-d5b7-219daec51ac2",
        "colab": {
          "base_uri": "https://localhost:8080/",
          "height": 34
        }
      },
      "source": [
        "a_list[1::2]"
      ],
      "execution_count": 0,
      "outputs": [
        {
          "output_type": "execute_result",
          "data": {
            "text/plain": [
              "['beta', 'delta']"
            ]
          },
          "metadata": {
            "tags": []
          },
          "execution_count": 39
        }
      ]
    },
    {
      "cell_type": "markdown",
      "metadata": {
        "id": "2ZbQRBnM4WRp",
        "colab_type": "text"
      },
      "source": [
        "## List Comprehensions\n",
        "\n",
        "Python has a very unique and compact way of iterating over objects called a comprehension.  Here we will will look specifically at list comprehensions, but it is also possible to build other types."
      ]
    },
    {
      "cell_type": "code",
      "metadata": {
        "id": "OjDsFkXR4H_d",
        "colab_type": "code",
        "colab": {}
      },
      "source": [
        "values = [6, 5, 4, 3, 2, 1]"
      ],
      "execution_count": 0,
      "outputs": []
    },
    {
      "cell_type": "markdown",
      "metadata": {
        "id": "N2i0GrhA5c2F",
        "colab_type": "text"
      },
      "source": [
        "We will now create a new list by\n",
        "1. Cycling through `values`\n",
        "2. Multiplying each element by the number 2\n",
        "\n",
        "We could do this with a `for` loop, but in Python we can accomplish this with just one line of code!"
      ]
    },
    {
      "cell_type": "code",
      "metadata": {
        "id": "egtHT61J5bSt",
        "colab_type": "code",
        "outputId": "05b8e168-d61c-410a-d0f8-1c1d2e70a84c",
        "colab": {
          "base_uri": "https://localhost:8080/",
          "height": 34
        }
      },
      "source": [
        "twice_values = [x*2 for x in values]\n",
        "\n",
        "twice_values"
      ],
      "execution_count": 0,
      "outputs": [
        {
          "output_type": "execute_result",
          "data": {
            "text/plain": [
              "[12, 10, 8, 6, 4, 2]"
            ]
          },
          "metadata": {
            "tags": []
          },
          "execution_count": 41
        }
      ]
    },
    {
      "cell_type": "markdown",
      "metadata": {
        "id": "8RNQ5Doy6FbK",
        "colab_type": "text"
      },
      "source": [
        "Let's make another list where we add two to every value instead."
      ]
    },
    {
      "cell_type": "code",
      "metadata": {
        "id": "NGaRQISw5uAk",
        "colab_type": "code",
        "outputId": "eea06b14-1897-4760-d8a2-a3163f9457ab",
        "colab": {
          "base_uri": "https://localhost:8080/",
          "height": 34
        }
      },
      "source": [
        "added_values = [x+2 for x in values]\n",
        "\n",
        "added_values"
      ],
      "execution_count": 0,
      "outputs": [
        {
          "output_type": "execute_result",
          "data": {
            "text/plain": [
              "[8, 7, 6, 5, 4, 3]"
            ]
          },
          "metadata": {
            "tags": []
          },
          "execution_count": 42
        }
      ]
    },
    {
      "cell_type": "markdown",
      "metadata": {
        "id": "RTXseO8X6ZJG",
        "colab_type": "text"
      },
      "source": [
        "We can also check conditions while constructing these lists _(more on this in Conditionals)_."
      ]
    },
    {
      "cell_type": "code",
      "metadata": {
        "id": "hckc3iLc6Qi0",
        "colab_type": "code",
        "outputId": "bd599ad9-0260-472b-d0ac-32d61b47f07c",
        "colab": {
          "base_uri": "https://localhost:8080/",
          "height": 34
        }
      },
      "source": [
        "medium_added_values = [x for x in added_values if 3 < x < 7]\n",
        "\n",
        "medium_added_values"
      ],
      "execution_count": 0,
      "outputs": [
        {
          "output_type": "execute_result",
          "data": {
            "text/plain": [
              "[6, 5, 4]"
            ]
          },
          "metadata": {
            "tags": []
          },
          "execution_count": 43
        }
      ]
    },
    {
      "cell_type": "markdown",
      "metadata": {
        "id": "_iUyvDMh-Ok-",
        "colab_type": "text"
      },
      "source": [
        "# Other Data Structures"
      ]
    },
    {
      "cell_type": "markdown",
      "metadata": {
        "id": "IZqiOMuM-Vkp",
        "colab_type": "text"
      },
      "source": [
        "## Tuples\n",
        "\n",
        "In Python tuples are denoted with parentheses.  They are like lists except for one big difference:  they are _immutable_.  Once a tuple is created, \n",
        "- Its values cannot be changed.\n",
        "- It cannot change size.  \n",
        "- You can, however, look up values by index."
      ]
    },
    {
      "cell_type": "code",
      "metadata": {
        "id": "YIttDA9V6ofP",
        "colab_type": "code",
        "outputId": "cb5b0086-73be-45f9-e26a-afe154d6f000",
        "colab": {
          "base_uri": "https://localhost:8080/",
          "height": 34
        }
      },
      "source": [
        "a_tuple = (1, 2, 2, 3)\n",
        "\n",
        "a_tuple"
      ],
      "execution_count": 0,
      "outputs": [
        {
          "output_type": "execute_result",
          "data": {
            "text/plain": [
              "(1, 2, 2, 3)"
            ]
          },
          "metadata": {
            "tags": []
          },
          "execution_count": 44
        }
      ]
    },
    {
      "cell_type": "code",
      "metadata": {
        "id": "rDbMllGpE8Ij",
        "colab_type": "code",
        "outputId": "74717cb9-4368-4c8b-9d03-a0ea7c6b81ec",
        "colab": {
          "base_uri": "https://localhost:8080/",
          "height": 34
        }
      },
      "source": [
        "a_tuple[1]"
      ],
      "execution_count": 0,
      "outputs": [
        {
          "output_type": "execute_result",
          "data": {
            "text/plain": [
              "2"
            ]
          },
          "metadata": {
            "tags": []
          },
          "execution_count": 45
        }
      ]
    },
    {
      "cell_type": "code",
      "metadata": {
        "id": "NwwquCB0E_JI",
        "colab_type": "code",
        "outputId": "6067c230-4e88-4b28-85fd-ee1f8685f951",
        "colab": {
          "base_uri": "https://localhost:8080/",
          "height": 162
        }
      },
      "source": [
        "a_tuple[1] = 4"
      ],
      "execution_count": 0,
      "outputs": [
        {
          "output_type": "error",
          "ename": "TypeError",
          "evalue": "ignored",
          "traceback": [
            "\u001b[0;31m---------------------------------------------------------------------------\u001b[0m",
            "\u001b[0;31mTypeError\u001b[0m                                 Traceback (most recent call last)",
            "\u001b[0;32m<ipython-input-46-f43656d9d947>\u001b[0m in \u001b[0;36m<module>\u001b[0;34m()\u001b[0m\n\u001b[0;32m----> 1\u001b[0;31m \u001b[0ma_tuple\u001b[0m\u001b[0;34m[\u001b[0m\u001b[0;36m1\u001b[0m\u001b[0;34m]\u001b[0m \u001b[0;34m=\u001b[0m \u001b[0;36m4\u001b[0m\u001b[0;34m\u001b[0m\u001b[0;34m\u001b[0m\u001b[0m\n\u001b[0m",
            "\u001b[0;31mTypeError\u001b[0m: 'tuple' object does not support item assignment"
          ]
        }
      ]
    },
    {
      "cell_type": "markdown",
      "metadata": {
        "id": "UBe8BoQuGT_F",
        "colab_type": "text"
      },
      "source": [
        "Tuples are great when you have data that should never be changed; for example, sensor recordings or geospatial coordinates.\n",
        "\n",
        "They can also\n",
        "- be nested \n",
        "- hold mixed data types"
      ]
    },
    {
      "cell_type": "code",
      "metadata": {
        "id": "V-O04cf1FBH2",
        "colab_type": "code",
        "colab": {}
      },
      "source": [
        "nyc = (('lat', 40.730610), ('lon', -73.935242))"
      ],
      "execution_count": 0,
      "outputs": []
    },
    {
      "cell_type": "code",
      "metadata": {
        "id": "0O9EDF19Har1",
        "colab_type": "code",
        "outputId": "619fe0e9-3469-4512-d518-8cf4e24c834b",
        "colab": {
          "base_uri": "https://localhost:8080/",
          "height": 34
        }
      },
      "source": [
        "type(nyc)"
      ],
      "execution_count": 0,
      "outputs": [
        {
          "output_type": "execute_result",
          "data": {
            "text/plain": [
              "tuple"
            ]
          },
          "metadata": {
            "tags": []
          },
          "execution_count": 48
        }
      ]
    },
    {
      "cell_type": "code",
      "metadata": {
        "id": "Xor-ODmOHcFQ",
        "colab_type": "code",
        "outputId": "c562e60e-ba6b-4e1e-ebe9-e9ecaea7e2db",
        "colab": {
          "base_uri": "https://localhost:8080/",
          "height": 34
        }
      },
      "source": [
        "nyc[0]"
      ],
      "execution_count": 0,
      "outputs": [
        {
          "output_type": "execute_result",
          "data": {
            "text/plain": [
              "('lat', 40.73061)"
            ]
          },
          "metadata": {
            "tags": []
          },
          "execution_count": 49
        }
      ]
    },
    {
      "cell_type": "code",
      "metadata": {
        "id": "1Bkz7s7tHgyy",
        "colab_type": "code",
        "outputId": "e86c7930-d41d-461c-c512-d0469a839ff0",
        "colab": {
          "base_uri": "https://localhost:8080/",
          "height": 34
        }
      },
      "source": [
        "type(nyc[0])"
      ],
      "execution_count": 0,
      "outputs": [
        {
          "output_type": "execute_result",
          "data": {
            "text/plain": [
              "tuple"
            ]
          },
          "metadata": {
            "tags": []
          },
          "execution_count": 50
        }
      ]
    },
    {
      "cell_type": "code",
      "metadata": {
        "id": "nzqrfxdXHc-D",
        "colab_type": "code",
        "outputId": "db3d54d1-4401-410a-eccf-fa83eba6213d",
        "colab": {
          "base_uri": "https://localhost:8080/",
          "height": 34
        }
      },
      "source": [
        "nyc[0][1]"
      ],
      "execution_count": 0,
      "outputs": [
        {
          "output_type": "execute_result",
          "data": {
            "text/plain": [
              "40.73061"
            ]
          },
          "metadata": {
            "tags": []
          },
          "execution_count": 51
        }
      ]
    },
    {
      "cell_type": "markdown",
      "metadata": {
        "id": "j5VFQyg5IHEh",
        "colab_type": "text"
      },
      "source": [
        "## Dictionaries\n",
        "\n",
        "Dictionaries are handy to store information when you \n",
        "- Want to look up values by name\n",
        "- Don't need to preserve order\n",
        "\n",
        "Dictionaries use two curly braces with the  `key:value` syntax."
      ]
    },
    {
      "cell_type": "code",
      "metadata": {
        "id": "Gx_ocombHeyD",
        "colab_type": "code",
        "colab": {}
      },
      "source": [
        "event = {'demystifying': True, 'data': True, 'science': True, 'confusion': False}"
      ],
      "execution_count": 0,
      "outputs": []
    },
    {
      "cell_type": "code",
      "metadata": {
        "id": "lYjvz0HwSTtW",
        "colab_type": "code",
        "outputId": "422ef3b3-0efb-420b-c3bd-611abcf71233",
        "colab": {
          "base_uri": "https://localhost:8080/",
          "height": 34
        }
      },
      "source": [
        "event['data']"
      ],
      "execution_count": 0,
      "outputs": [
        {
          "output_type": "execute_result",
          "data": {
            "text/plain": [
              "True"
            ]
          },
          "metadata": {
            "tags": []
          },
          "execution_count": 53
        }
      ]
    },
    {
      "cell_type": "code",
      "metadata": {
        "id": "Z7Pho1sLSWxr",
        "colab_type": "code",
        "outputId": "5d003077-39a0-4e86-806e-c362edf4dc69",
        "colab": {
          "base_uri": "https://localhost:8080/",
          "height": 34
        }
      },
      "source": [
        "event['confusion']"
      ],
      "execution_count": 0,
      "outputs": [
        {
          "output_type": "execute_result",
          "data": {
            "text/plain": [
              "False"
            ]
          },
          "metadata": {
            "tags": []
          },
          "execution_count": 54
        }
      ]
    },
    {
      "cell_type": "markdown",
      "metadata": {
        "id": "3_yV6P90StU-",
        "colab_type": "text"
      },
      "source": [
        "Dictionaries can be thought of as lookup tables or maps.  A dictionary consists of \n",
        "- Keys \n",
        "- Their associated values.\n",
        "\n",
        "We typically use strings as the dictionary keys, but other data types are also possible.  No matter what we choose, keys should always be unique.  \n",
        "\n",
        "The values can be Booleans, strings, lists, tuples, other dictionaries, etc."
      ]
    },
    {
      "cell_type": "code",
      "metadata": {
        "id": "QyNJ29eDSX5z",
        "colab_type": "code",
        "outputId": "6de4f5dc-2931-4090-88ca-fa2f88ddc48b",
        "colab": {
          "base_uri": "https://localhost:8080/",
          "height": 34
        }
      },
      "source": [
        "event"
      ],
      "execution_count": 0,
      "outputs": [
        {
          "output_type": "execute_result",
          "data": {
            "text/plain": [
              "{'confusion': False, 'data': True, 'demystifying': True, 'science': True}"
            ]
          },
          "metadata": {
            "tags": []
          },
          "execution_count": 55
        }
      ]
    },
    {
      "cell_type": "code",
      "metadata": {
        "id": "KW_lohdMUKlp",
        "colab_type": "code",
        "outputId": "ffbdc609-8742-46bc-90d9-c93d1f17a2fc",
        "colab": {
          "base_uri": "https://localhost:8080/",
          "height": 101
        }
      },
      "source": [
        "event['uncertainty'] = False\n",
        "\n",
        "event"
      ],
      "execution_count": 0,
      "outputs": [
        {
          "output_type": "execute_result",
          "data": {
            "text/plain": [
              "{'confusion': False,\n",
              " 'data': True,\n",
              " 'demystifying': True,\n",
              " 'science': True,\n",
              " 'uncertainty': False}"
            ]
          },
          "metadata": {
            "tags": []
          },
          "execution_count": 56
        }
      ]
    },
    {
      "cell_type": "code",
      "metadata": {
        "id": "D5ALi319UV3J",
        "colab_type": "code",
        "outputId": "33f26ad4-0c2f-4bf3-e1b5-313299d715bc",
        "colab": {
          "base_uri": "https://localhost:8080/",
          "height": 101
        }
      },
      "source": [
        "event['demystifying'] = 'Oops! This value has been overwritten.'\n",
        "\n",
        "event"
      ],
      "execution_count": 0,
      "outputs": [
        {
          "output_type": "execute_result",
          "data": {
            "text/plain": [
              "{'confusion': False,\n",
              " 'data': True,\n",
              " 'demystifying': 'Oops! This value has been overwritten.',\n",
              " 'science': True,\n",
              " 'uncertainty': False}"
            ]
          },
          "metadata": {
            "tags": []
          },
          "execution_count": 57
        }
      ]
    },
    {
      "cell_type": "code",
      "metadata": {
        "id": "gFkswP7bUbts",
        "colab_type": "code",
        "outputId": "67da7b98-e2fe-409f-8be0-7a0b54300688",
        "colab": {
          "base_uri": "https://localhost:8080/",
          "height": 118
        }
      },
      "source": [
        "event['title'] = ['introduction', 'to', 'programming', 'in', 'python']\n",
        "\n",
        "event"
      ],
      "execution_count": 0,
      "outputs": [
        {
          "output_type": "execute_result",
          "data": {
            "text/plain": [
              "{'confusion': False,\n",
              " 'data': True,\n",
              " 'demystifying': 'Oops! This value has been overwritten.',\n",
              " 'science': True,\n",
              " 'title': ['introduction', 'to', 'programming', 'in', 'python'],\n",
              " 'uncertainty': False}"
            ]
          },
          "metadata": {
            "tags": []
          },
          "execution_count": 58
        }
      ]
    },
    {
      "cell_type": "markdown",
      "metadata": {
        "id": "lkmbalzpU7lo",
        "colab_type": "text"
      },
      "source": [
        "Typically, looking up information in a dictionary is much faster than doing so in a list.  Their speed and flexibility make them ideal for data retrieval in many cases.  Dictionaries can also have nested subdictionaries.\n",
        "\n",
        "Here's an example of storing some information about the Olympic Games."
      ]
    },
    {
      "cell_type": "code",
      "metadata": {
        "id": "7T89aJ2EVB5W",
        "colab_type": "code",
        "colab": {}
      },
      "source": [
        "olympics = {\n",
        "    1980: {'Winter': ('USA', 'Lake Placid'), \n",
        "           'Summer': ('Soviet Union', 'Moscow')\n",
        "          },\n",
        "    1984: {'Winter': ('Yugoslavia', 'Sarajevo'), \n",
        "           'Summer': ('USA', 'Los Angeles')\n",
        "          },\n",
        "    1988: {'Winter': ('Canada', 'Calgary'),\n",
        "           'Summer': ('South Korea', 'Seoul')\n",
        "          }\n",
        "}"
      ],
      "execution_count": 0,
      "outputs": []
    },
    {
      "cell_type": "markdown",
      "metadata": {
        "id": "yLxGHp4qWaaa",
        "colab_type": "text"
      },
      "source": [
        "<img src=\"https://drive.google.com/uc?export=view&id=1mDXyzfvmROIx9YcFBqHRiY9WH5_JKQif\"  alt=\"drawing\" height=\"20\"/>   Spaces, including new lines, don't matter in Python if the code is enclosed by parentheses, brackets, or braces.\n"
      ]
    },
    {
      "cell_type": "code",
      "metadata": {
        "id": "J_ShHhy9bOug",
        "colab_type": "code",
        "outputId": "0558e204-80aa-433a-8916-b2cc03a0ab69",
        "colab": {
          "base_uri": "https://localhost:8080/",
          "height": 34
        }
      },
      "source": [
        "olympics[1984]"
      ],
      "execution_count": 0,
      "outputs": [
        {
          "output_type": "execute_result",
          "data": {
            "text/plain": [
              "{'Summer': ('USA', 'Los Angeles'), 'Winter': ('Yugoslavia', 'Sarajevo')}"
            ]
          },
          "metadata": {
            "tags": []
          },
          "execution_count": 60
        }
      ]
    },
    {
      "cell_type": "code",
      "metadata": {
        "id": "fL2Srb68VkZh",
        "colab_type": "code",
        "outputId": "e7758389-6925-45b1-c22b-1033730056aa",
        "colab": {
          "base_uri": "https://localhost:8080/",
          "height": 34
        }
      },
      "source": [
        "olympics[1984]['Summer']"
      ],
      "execution_count": 0,
      "outputs": [
        {
          "output_type": "execute_result",
          "data": {
            "text/plain": [
              "('USA', 'Los Angeles')"
            ]
          },
          "metadata": {
            "tags": []
          },
          "execution_count": 61
        }
      ]
    },
    {
      "cell_type": "code",
      "metadata": {
        "id": "xyPA7txJi0Ud",
        "colab_type": "code",
        "outputId": "ce1f0d32-235f-48f0-b1e2-e4a9c76580b7",
        "colab": {
          "base_uri": "https://localhost:8080/",
          "height": 34
        }
      },
      "source": [
        "olympics[1984]['Summer'][0]"
      ],
      "execution_count": 0,
      "outputs": [
        {
          "output_type": "execute_result",
          "data": {
            "text/plain": [
              "'USA'"
            ]
          },
          "metadata": {
            "tags": []
          },
          "execution_count": 62
        }
      ]
    },
    {
      "cell_type": "markdown",
      "metadata": {
        "id": "3ypof9QCbNbv",
        "colab_type": "text"
      },
      "source": [
        "<img src=\"https://drive.google.com/uc?export=view&id=1mDXyzfvmROIx9YcFBqHRiY9WH5_JKQif\"  alt=\"drawing\" height=\"20\"/>   Dictionaries are often called \"hash tables\" in other programming languages."
      ]
    },
    {
      "cell_type": "markdown",
      "metadata": {
        "id": "UOr2qXwkWCDV",
        "colab_type": "text"
      },
      "source": [
        "<img src=\"https://drive.google.com/uc?export=view&id=1qUilPF2P2-vxkHW3izVH1_GdrTGq2kvk\"  alt=\"drawing\" height=\"25\"/> \n",
        "**Exercise #3 - Creating a Dictionary** \n",
        "> Make a dictionary with people's names and ages so you can look up each person's age later.  "
      ]
    },
    {
      "cell_type": "code",
      "metadata": {
        "id": "PMifNaUWWqro",
        "colab_type": "code",
        "colab": {}
      },
      "source": [
        "people = {\n",
        "    'Sue': 22,\n",
        "    'Lisa': 44,\n",
        "    'Bob': 65\n",
        "}"
      ],
      "execution_count": 0,
      "outputs": []
    },
    {
      "cell_type": "code",
      "metadata": {
        "id": "XSsDHy1lCumv",
        "colab_type": "code",
        "outputId": "fc52216f-dccc-49ee-c41a-51e6633aa193",
        "colab": {
          "base_uri": "https://localhost:8080/",
          "height": 34
        }
      },
      "source": [
        "people['Lisa']"
      ],
      "execution_count": 0,
      "outputs": [
        {
          "output_type": "execute_result",
          "data": {
            "text/plain": [
              "44"
            ]
          },
          "metadata": {
            "tags": []
          },
          "execution_count": 64
        }
      ]
    },
    {
      "cell_type": "markdown",
      "metadata": {
        "id": "cG0fRnwxW8UD",
        "colab_type": "text"
      },
      "source": [
        ">How could you structure your dictionary to store additional information about each person like phone number, email address, etc.?"
      ]
    },
    {
      "cell_type": "code",
      "metadata": {
        "id": "BtTJrNdNW99c",
        "colab_type": "code",
        "colab": {}
      },
      "source": [
        "people_info = {\n",
        "    'Sue': {'age': 22, 'email': 'suesue@hotmail.com', 'phone': '555-2424'},\n",
        "    'Lisa': {'age': 44}\n",
        "}"
      ],
      "execution_count": 0,
      "outputs": []
    },
    {
      "cell_type": "code",
      "metadata": {
        "id": "SA0KvcOJlR6K",
        "colab_type": "code",
        "outputId": "689c2c3b-77f9-43a3-e25d-8ff195826b1d",
        "colab": {
          "base_uri": "https://localhost:8080/",
          "height": 34
        }
      },
      "source": [
        "people_info['Sue']['phone']"
      ],
      "execution_count": 0,
      "outputs": [
        {
          "output_type": "execute_result",
          "data": {
            "text/plain": [
              "'555-2424'"
            ]
          },
          "metadata": {
            "tags": []
          },
          "execution_count": 67
        }
      ]
    },
    {
      "cell_type": "markdown",
      "metadata": {
        "id": "xPlRcNXQWrk-",
        "colab_type": "text"
      },
      "source": [
        "# Conditional Statements: `if`, `else`\n",
        "\n",
        "Conditional statements in Python are written with the commands `if`, `elif`, and `else`.  These statements allow us to make decisions with variables. "
      ]
    },
    {
      "cell_type": "code",
      "metadata": {
        "id": "ypJzztt2bOGy",
        "colab_type": "code",
        "outputId": "d9a4834a-be9e-4126-d376-fe845609f8cc",
        "colab": {
          "base_uri": "https://localhost:8080/",
          "height": 50
        }
      },
      "source": [
        "demystifying_data_science = True\n",
        "\n",
        "if demystifying_data_science:\n",
        "  print(\"You're in the right place!\")\n",
        "else:\n",
        "  print(\"Oh no!\")\n",
        "print('Exiting')"
      ],
      "execution_count": 0,
      "outputs": [
        {
          "output_type": "stream",
          "text": [
            "You're in the right place!\n",
            "Exiting\n"
          ],
          "name": "stdout"
        }
      ]
    },
    {
      "cell_type": "markdown",
      "metadata": {
        "id": "_-YxRKB1BylW",
        "colab_type": "text"
      },
      "source": [
        "<img src=\"https://drive.google.com/uc?export=view&id=1tNN-gkNrhOhF4bVhmGHrrsRdNtkTPY52\"  alt=\"drawing\" height=\"20\"/>  Lines of `if` and `else` should end in a colon.  Any lines in between should be indented; otherwise, Python thinks the `if/else` statement is over."
      ]
    },
    {
      "cell_type": "markdown",
      "metadata": {
        "id": "9oZ1utRseXRb",
        "colab_type": "text"
      },
      "source": [
        "## Truthiness in Python"
      ]
    },
    {
      "cell_type": "markdown",
      "metadata": {
        "id": "DG5TgDJTZGWH",
        "colab_type": "text"
      },
      "source": [
        "`if` checks for true statements, but truthiness in Python relies on a few additional assumptions.  All of the following will be evaluated as `False`:\n",
        "- `False`\n",
        "- 0\n",
        "- Empty string\n",
        "- Empty list or tuple"
      ]
    },
    {
      "cell_type": "code",
      "metadata": {
        "id": "8hyzYcFJZE_5",
        "colab_type": "code",
        "colab": {}
      },
      "source": [
        "blank_string = ''\n",
        "non_zero_value = -23"
      ],
      "execution_count": 0,
      "outputs": []
    },
    {
      "cell_type": "code",
      "metadata": {
        "id": "H2NZvSRSeG-L",
        "colab_type": "code",
        "colab": {}
      },
      "source": [
        "if blank_string:\n",
        "  print(\"This will not print because blank strings are False.\")"
      ],
      "execution_count": 0,
      "outputs": []
    },
    {
      "cell_type": "code",
      "metadata": {
        "id": "cJ4FzFHVeK1J",
        "colab_type": "code",
        "colab": {}
      },
      "source": [
        "if non_zero_value:\n",
        "  print(\"This will print because non-zero values are True!\")"
      ],
      "execution_count": 0,
      "outputs": []
    },
    {
      "cell_type": "markdown",
      "metadata": {
        "id": "pn21nfsFeqwP",
        "colab_type": "text"
      },
      "source": [
        "## Evaluating Statements\n",
        "\n",
        "The real power of conditionals comes from evaluating statements to check for truthiness."
      ]
    },
    {
      "cell_type": "code",
      "metadata": {
        "id": "wh5I2MT6w_7_",
        "colab_type": "code",
        "outputId": "99f938cc-5456-4b40-f0e1-79f833428567",
        "colab": {
          "base_uri": "https://localhost:8080/",
          "height": 34
        }
      },
      "source": [
        "cents = 20\n",
        "\n",
        "print(cents > 100)"
      ],
      "execution_count": 0,
      "outputs": [
        {
          "output_type": "stream",
          "text": [
            "False\n"
          ],
          "name": "stdout"
        }
      ]
    },
    {
      "cell_type": "code",
      "metadata": {
        "id": "QPIuqRs1QQnE",
        "colab_type": "code",
        "outputId": "3106cd51-cab6-4cb4-c74d-d16a58c03bf2",
        "colab": {
          "base_uri": "https://localhost:8080/",
          "height": 34
        }
      },
      "source": [
        "cents <= 20"
      ],
      "execution_count": 0,
      "outputs": [
        {
          "output_type": "execute_result",
          "data": {
            "text/plain": [
              "True"
            ]
          },
          "metadata": {
            "tags": []
          },
          "execution_count": 73
        }
      ]
    },
    {
      "cell_type": "code",
      "metadata": {
        "id": "JAo9g-hQeP-U",
        "colab_type": "code",
        "outputId": "3f5dae37-f113-49b9-ac1c-7394d84895fd",
        "colab": {
          "base_uri": "https://localhost:8080/",
          "height": 34
        }
      },
      "source": [
        "cents = 202\n",
        "\n",
        "if (cents > 100): \n",
        "  dollars = cents/100\n",
        "  print(dollars, 'Dollars')\n",
        "else:\n",
        "  print(cents, 'Cents')"
      ],
      "execution_count": 0,
      "outputs": [
        {
          "output_type": "stream",
          "text": [
            "2.02 Dollars\n"
          ],
          "name": "stdout"
        }
      ]
    },
    {
      "cell_type": "markdown",
      "metadata": {
        "id": "lBygOtiUNEju",
        "colab_type": "text"
      },
      "source": [
        " If we have multiple statements to check, we can use `elif`, which stands for \"else if\"."
      ]
    },
    {
      "cell_type": "code",
      "metadata": {
        "id": "nxUoC0TMNFh5",
        "colab_type": "code",
        "outputId": "ed007486-3f41-4f6d-a2e8-8a982411f48b",
        "colab": {
          "base_uri": "https://localhost:8080/",
          "height": 34
        }
      },
      "source": [
        "x = -3.1415\n",
        "\n",
        "if x > 4:\n",
        "  print('Value is bigger than 4')\n",
        "elif x > 3:\n",
        "  print('Value is bigger than 3')\n",
        "elif x > 2:\n",
        "  print('Value is bigger than 2')\n",
        "else:\n",
        "  print('Value is less than 2')"
      ],
      "execution_count": 0,
      "outputs": [
        {
          "output_type": "stream",
          "text": [
            "Value is less than 2\n"
          ],
          "name": "stdout"
        }
      ]
    },
    {
      "cell_type": "markdown",
      "metadata": {
        "id": "ohHWSLOUxdD9",
        "colab_type": "text"
      },
      "source": [
        "As soon as one of the `if` or `elif` statements is satisfied, the `if/else` statement is over.\n",
        "\n",
        "We can also check statements involving strings."
      ]
    },
    {
      "cell_type": "code",
      "metadata": {
        "id": "Rf0SnadIfQhp",
        "colab_type": "code",
        "outputId": "a30876b8-726d-42a2-c593-f620f3033692",
        "colab": {
          "base_uri": "https://localhost:8080/",
          "height": 34
        }
      },
      "source": [
        "customer = 'Tessa'\n",
        "\n",
        "if customer == 'Troy':\n",
        "  print('Hi, Troy!')\n",
        "elif customer == 'Tessa':\n",
        "  print('Hi, Tessa!')\n",
        "else:\n",
        "  print('Hello!')"
      ],
      "execution_count": 0,
      "outputs": [
        {
          "output_type": "stream",
          "text": [
            "Hi, Tessa!\n"
          ],
          "name": "stdout"
        }
      ]
    },
    {
      "cell_type": "markdown",
      "metadata": {
        "id": "hQdkafYaxhiX",
        "colab_type": "text"
      },
      "source": [
        "<img src=\"https://drive.google.com/uc?export=view&id=1mDXyzfvmROIx9YcFBqHRiY9WH5_JKQif\"  alt=\"drawing\" height=\"20\"/>   In Python we use two equals signs to check for equivalence since one equals sign is used to assign values to variables.\n"
      ]
    },
    {
      "cell_type": "markdown",
      "metadata": {
        "id": "A1eT16aGBc5l",
        "colab_type": "text"
      },
      "source": [
        "## Multiple Statements\n",
        "\n",
        "\n",
        "We can also check multiple statements at the same time and require that \n",
        "- Both statements are true (`and`) \n",
        "- Check that at least one statement is true (`or`)"
      ]
    },
    {
      "cell_type": "markdown",
      "metadata": {
        "id": "aSoFTbiDj3QU",
        "colab_type": "text"
      },
      "source": [
        "### `and`"
      ]
    },
    {
      "cell_type": "code",
      "metadata": {
        "id": "kcvOc8-yf0Qu",
        "colab_type": "code",
        "outputId": "c5ff82d9-845c-4673-e42e-e1a10e88cf76",
        "colab": {
          "base_uri": "https://localhost:8080/",
          "height": 34
        }
      },
      "source": [
        "value = 3.56\n",
        "\n",
        "if value >= 3 and value < 4:\n",
        "  print('Yes, value is between 3 and 4.')\n",
        "else:\n",
        "  print('No, value is out of range.')"
      ],
      "execution_count": 0,
      "outputs": [
        {
          "output_type": "stream",
          "text": [
            "Yes, value is between 3 and 4.\n"
          ],
          "name": "stdout"
        }
      ]
    },
    {
      "cell_type": "markdown",
      "metadata": {
        "id": "tVQKs9Xlj5Jb",
        "colab_type": "text"
      },
      "source": [
        "### `or`"
      ]
    },
    {
      "cell_type": "code",
      "metadata": {
        "id": "Y8eRmllpjo-H",
        "colab_type": "code",
        "outputId": "5804bc50-1b05-4ab2-a07d-6866e5cfe870",
        "colab": {
          "base_uri": "https://localhost:8080/",
          "height": 34
        }
      },
      "source": [
        "user_input = 0.11\n",
        "\n",
        "if type(user_input) == int or type(user_input) == float:\n",
        "  print(user_input + 4)\n",
        "else:\n",
        "  print(\"Oops! Value is not an integer or a float.\")"
      ],
      "execution_count": 0,
      "outputs": [
        {
          "output_type": "stream",
          "text": [
            "3.11\n"
          ],
          "name": "stdout"
        }
      ]
    },
    {
      "cell_type": "code",
      "metadata": {
        "id": "-U1iqE7w-MMT",
        "colab_type": "code",
        "outputId": "41ed4735-276c-4aa1-cf60-73fa7930d159",
        "colab": {
          "base_uri": "https://localhost:8080/",
          "height": 34
        }
      },
      "source": [
        "user_input = \"Cheers!\"\n",
        "\n",
        "if type(user_input) == int or type(user_input) == float:\n",
        "  print(user_input + 4)\n",
        "else:\n",
        "  print(\"Oops! Value is not an integer or a float.\")"
      ],
      "execution_count": 0,
      "outputs": [
        {
          "output_type": "stream",
          "text": [
            "Oops! Value is not an integer or a float.\n"
          ],
          "name": "stdout"
        }
      ]
    },
    {
      "cell_type": "markdown",
      "metadata": {
        "id": "TiPF3rwLyEOe",
        "colab_type": "text"
      },
      "source": [
        "# Functions\n",
        "\n",
        "We used the same code to check two different user inputs in the previous example.  In general, we want to avoid copy and pasting the same code again and again.  \n",
        "\n",
        "Functions allow us to reuse code without retyping it.  Let's see a simple example."
      ]
    },
    {
      "cell_type": "code",
      "metadata": {
        "id": "PDPslsvkj-kY",
        "colab_type": "code",
        "colab": {}
      },
      "source": [
        "def square(x):\n",
        "  '''This is a doc string.  It tells us what the function does. \n",
        "     This function computes the square.\n",
        "  '''\n",
        "  return x**2"
      ],
      "execution_count": 0,
      "outputs": []
    },
    {
      "cell_type": "markdown",
      "metadata": {
        "id": "c9W9y2JVOCig",
        "colab_type": "text"
      },
      "source": [
        "<img src=\"https://drive.google.com/uc?export=view&id=1mDXyzfvmROIx9YcFBqHRiY9WH5_JKQif\"  alt=\"drawing\" height=\"20\"/>  Two asterisks (`**`) are used to denote exponentials."
      ]
    },
    {
      "cell_type": "code",
      "metadata": {
        "id": "2fSro69flc0-",
        "colab_type": "code",
        "outputId": "b20af17a-2c6e-4f05-f04e-a9e3ff946a94",
        "colab": {
          "base_uri": "https://localhost:8080/",
          "height": 34
        }
      },
      "source": [
        "square(4)"
      ],
      "execution_count": 0,
      "outputs": [
        {
          "output_type": "execute_result",
          "data": {
            "text/plain": [
              "16"
            ]
          },
          "metadata": {
            "tags": []
          },
          "execution_count": 83
        }
      ]
    },
    {
      "cell_type": "code",
      "metadata": {
        "id": "MI8UGf3VlsaB",
        "colab_type": "code",
        "colab": {}
      },
      "source": [
        "y = square(1.5)"
      ],
      "execution_count": 0,
      "outputs": []
    },
    {
      "cell_type": "code",
      "metadata": {
        "id": "kUAU-d3xpOvr",
        "colab_type": "code",
        "outputId": "e1b52e9c-a61d-49ff-f1b8-0c8e1eb00d85",
        "colab": {
          "base_uri": "https://localhost:8080/",
          "height": 34
        }
      },
      "source": [
        "y"
      ],
      "execution_count": 0,
      "outputs": [
        {
          "output_type": "execute_result",
          "data": {
            "text/plain": [
              "2.25"
            ]
          },
          "metadata": {
            "tags": []
          },
          "execution_count": 85
        }
      ]
    },
    {
      "cell_type": "code",
      "metadata": {
        "id": "4Vy95Mb8luNO",
        "colab_type": "code",
        "outputId": "9e45ff5d-6293-45f8-a7ec-e2699132c0c4",
        "colab": {
          "base_uri": "https://localhost:8080/",
          "height": 34
        }
      },
      "source": [
        "square(square(2))  "
      ],
      "execution_count": 0,
      "outputs": [
        {
          "output_type": "execute_result",
          "data": {
            "text/plain": [
              "16"
            ]
          },
          "metadata": {
            "tags": []
          },
          "execution_count": 86
        }
      ]
    },
    {
      "cell_type": "markdown",
      "metadata": {
        "id": "aFx-pRqzmlm4",
        "colab_type": "text"
      },
      "source": [
        "Functions\n",
        "- Are denoted `def NAME_OF_FUNCTION():`\n",
        "- Take zero, one, or more arguments inside the parentheses\n",
        "- Check for appropriate number of arguments"
      ]
    },
    {
      "cell_type": "code",
      "metadata": {
        "id": "LIhGjejDlxDH",
        "colab_type": "code",
        "colab": {}
      },
      "source": [
        "square()"
      ],
      "execution_count": 0,
      "outputs": []
    },
    {
      "cell_type": "markdown",
      "metadata": {
        "id": "q9BNRCF1adny",
        "colab_type": "text"
      },
      "source": [
        "<img src=\"https://drive.google.com/uc?export=view&id=1qUilPF2P2-vxkHW3izVH1_GdrTGq2kvk\"  alt=\"drawing\" height=\"25\"/> \n",
        "**Exercise #4 - Writing a Function** \n",
        "> Write a function that takes in a number and returns the number cubed plus 7. Then test your function on the number 3."
      ]
    },
    {
      "cell_type": "code",
      "metadata": {
        "id": "-MqjlT71aiUK",
        "colab_type": "code",
        "colab": {}
      },
      "source": [
        ""
      ],
      "execution_count": 0,
      "outputs": []
    },
    {
      "cell_type": "code",
      "metadata": {
        "id": "j0-qhWnJaifF",
        "colab_type": "code",
        "colab": {}
      },
      "source": [
        ""
      ],
      "execution_count": 0,
      "outputs": []
    },
    {
      "cell_type": "markdown",
      "metadata": {
        "id": "x9X7J-PBnf5T",
        "colab_type": "text"
      },
      "source": [
        "Functions can send back information with `return`, but this isn't required."
      ]
    },
    {
      "cell_type": "code",
      "metadata": {
        "id": "3ZZdk5konV3K",
        "colab_type": "code",
        "colab": {}
      },
      "source": [
        "def square_with_print(x):\n",
        "  '''First square the input and then print it'''\n",
        "  x_squared = x*x\n",
        "  print('The square is', x_squared)"
      ],
      "execution_count": 0,
      "outputs": []
    },
    {
      "cell_type": "code",
      "metadata": {
        "id": "-TODbiwJnxdk",
        "colab_type": "code",
        "colab": {}
      },
      "source": [
        "square_with_print(7)"
      ],
      "execution_count": 0,
      "outputs": []
    },
    {
      "cell_type": "code",
      "metadata": {
        "id": "8It6tXGPnz6J",
        "colab_type": "code",
        "colab": {}
      },
      "source": [
        "value = 5\n",
        "square_with_print(value)"
      ],
      "execution_count": 0,
      "outputs": []
    },
    {
      "cell_type": "markdown",
      "metadata": {
        "id": "1Q3ph9TPoaXn",
        "colab_type": "text"
      },
      "source": [
        "Functions can also be written to operate on lists, tuples, dictionaries, etc."
      ]
    },
    {
      "cell_type": "code",
      "metadata": {
        "id": "LoTVxJY3oPrP",
        "colab_type": "code",
        "colab": {}
      },
      "source": [
        "def print_list(li):\n",
        "  for item in li:\n",
        "    print(item)"
      ],
      "execution_count": 0,
      "outputs": []
    },
    {
      "cell_type": "code",
      "metadata": {
        "id": "d8TI4jnBoosP",
        "colab_type": "code",
        "colab": {}
      },
      "source": [
        "print_list(['a', 'b', 300, 'dog'])"
      ],
      "execution_count": 0,
      "outputs": []
    },
    {
      "cell_type": "markdown",
      "metadata": {
        "id": "vIozJ10fZIiW",
        "colab_type": "text"
      },
      "source": [
        "<img src=\"https://drive.google.com/uc?export=view&id=1qUilPF2P2-vxkHW3izVH1_GdrTGq2kvk\"  alt=\"drawing\" height=\"25\"/> \n",
        "**Exercise #5 - Greeter Function** \n",
        "> Write a function to greet people.  Given an input `string`, your function should print, \"Hello, `string`!\" "
      ]
    },
    {
      "cell_type": "code",
      "metadata": {
        "id": "Gw3D80R1ZcPC",
        "colab_type": "code",
        "colab": {}
      },
      "source": [
        ""
      ],
      "execution_count": 0,
      "outputs": []
    },
    {
      "cell_type": "code",
      "metadata": {
        "id": "TWRKZZWaP5e3",
        "colab_type": "code",
        "colab": {}
      },
      "source": [
        ""
      ],
      "execution_count": 0,
      "outputs": []
    },
    {
      "cell_type": "markdown",
      "metadata": {
        "id": "aguR6wIza_pU",
        "colab_type": "text"
      },
      "source": [
        "> What happens if someone provides an integer to your function?  Can you make your function more general so that it \"greets\" any kind of input?"
      ]
    },
    {
      "cell_type": "code",
      "metadata": {
        "id": "ValfZI_6qVRr",
        "colab_type": "code",
        "colab": {}
      },
      "source": [
        ""
      ],
      "execution_count": 0,
      "outputs": []
    },
    {
      "cell_type": "code",
      "metadata": {
        "id": "PrckiFzmqVxZ",
        "colab_type": "code",
        "colab": {}
      },
      "source": [
        ""
      ],
      "execution_count": 0,
      "outputs": []
    },
    {
      "cell_type": "markdown",
      "metadata": {
        "id": "Bh3itYfhM_JZ",
        "colab_type": "text"
      },
      "source": [
        "## Args vs Kwargs\n",
        "\n",
        "Function inputs in Python can be\n",
        "- Required (args = arguments)\n",
        "- Optional (kwargs = keyword arguments)\n",
        "\n",
        "A default value should be provided for any optional argument, along with a name."
      ]
    },
    {
      "cell_type": "code",
      "metadata": {
        "id": "PwgcYLtgN1-9",
        "colab_type": "code",
        "colab": {}
      },
      "source": [
        "def raise_to_power(x, power=2):\n",
        "  return x**power"
      ],
      "execution_count": 0,
      "outputs": []
    },
    {
      "cell_type": "code",
      "metadata": {
        "id": "Bk2lPEolOTGD",
        "colab_type": "code",
        "colab": {}
      },
      "source": [
        "raise_to_power(3)"
      ],
      "execution_count": 0,
      "outputs": []
    },
    {
      "cell_type": "code",
      "metadata": {
        "id": "VWwbkX_pOZZS",
        "colab_type": "code",
        "colab": {}
      },
      "source": [
        "raise_to_power(3, power=3)"
      ],
      "execution_count": 0,
      "outputs": []
    },
    {
      "cell_type": "markdown",
      "metadata": {
        "id": "OeU-AGR6Ogug",
        "colab_type": "text"
      },
      "source": [
        "If the kwarg `power` is included Python will use it as an input; otherwise, the `raise_to_power` function defaults  to `power=2`.\n",
        "\n",
        "The ability to make a function's inputs required or optional greatly enhances its flexibility!"
      ]
    },
    {
      "cell_type": "markdown",
      "metadata": {
        "id": "uDcQ26DxpRiC",
        "colab_type": "text"
      },
      "source": [
        "## Key Takeaways about Functions\n",
        "1. HUGE part of effective programming\n",
        "2. Never \"copy and paste\" code -- use a function!\n",
        "3. Appropriately name your functions (`function2()` vs `sum_of_list()`)\n",
        "4. Appropriately name args and kwargs\n",
        "5. Save time and improve readability"
      ]
    },
    {
      "cell_type": "markdown",
      "metadata": {
        "id": "w5GqMPYeRWTN",
        "colab_type": "text"
      },
      "source": [
        "# Importing Libraries\n",
        "\n",
        "Python has a huge collection of pre-made code libraries, called modules.  These modules\n",
        "- Enhance Python's functionality\n",
        "- Save time since functions are already built\n",
        "- Often reduce computation time with optimizations\n"
      ]
    },
    {
      "cell_type": "markdown",
      "metadata": {
        "id": "-7rBQFPIW7N2",
        "colab_type": "text"
      },
      "source": [
        "## `numpy`\n",
        "\n",
        "Let's first look at `numpy`, a library to help with mathematical manipulations.  `numpy` is super fast!  It can make more efficient lists (called arrays) and then perform complex calculations with those arrays.  \n",
        "\n",
        "First we load the `numpy` library (`import numpy`) and give it a nickname (`as np`)."
      ]
    },
    {
      "cell_type": "code",
      "metadata": {
        "id": "TTaSVtlCor6J",
        "colab_type": "code",
        "colab": {}
      },
      "source": [
        "import numpy as np"
      ],
      "execution_count": 0,
      "outputs": []
    },
    {
      "cell_type": "code",
      "metadata": {
        "id": "cKjRZcz8XGaW",
        "colab_type": "code",
        "colab": {}
      },
      "source": [
        "vector1 = np.array([1, 2, 3, 4])\n",
        "vector2 = np.array([2, 3, 4, 5])"
      ],
      "execution_count": 0,
      "outputs": []
    },
    {
      "cell_type": "code",
      "metadata": {
        "id": "PEOAXR18XNjq",
        "colab_type": "code",
        "colab": {}
      },
      "source": [
        "np.dot(vector1, vector2)"
      ],
      "execution_count": 0,
      "outputs": []
    },
    {
      "cell_type": "markdown",
      "metadata": {
        "id": "iROLE1ZFXU0z",
        "colab_type": "text"
      },
      "source": [
        "After we created two `numpy` arrays, we used `numpy`'s pre-built function to compute their dot product.  \n",
        "\n",
        "Notice we didn't need to define the function `dot`, we already had access to it by loading in `numpy`."
      ]
    },
    {
      "cell_type": "markdown",
      "metadata": {
        "id": "rV_LGDNmaeq6",
        "colab_type": "text"
      },
      "source": [
        "`numpy` can do much, much more than this, including\n",
        "- Operating on matrices\n",
        "- Generating random numbers\n",
        "- Trigonometric functions\n",
        "- Exponents and logarithms\n",
        "- Fourier transforms"
      ]
    },
    {
      "cell_type": "markdown",
      "metadata": {
        "id": "xrzojd74agVW",
        "colab_type": "text"
      },
      "source": [
        "## `pandas`\n",
        "\n",
        "`pandas` is Python's primary library for data handling and exploration.  We will now use `pandas` load and analyze some example [data about cereals](https://www.kaggle.com/crawford/80-cereals)."
      ]
    },
    {
      "cell_type": "code",
      "metadata": {
        "id": "63DAa5oPdZKb",
        "colab_type": "code",
        "colab": {}
      },
      "source": [
        "import pandas as pd"
      ],
      "execution_count": 0,
      "outputs": []
    },
    {
      "cell_type": "code",
      "metadata": {
        "id": "kPmJQL2uXP3E",
        "colab_type": "code",
        "colab": {}
      },
      "source": [
        "url = 'https://bit.ly/2JRmGC2'\n",
        "\n",
        "df = pd.read_csv(url)"
      ],
      "execution_count": 0,
      "outputs": []
    },
    {
      "cell_type": "code",
      "metadata": {
        "id": "E_K8ToOUdXpC",
        "colab_type": "code",
        "colab": {}
      },
      "source": [
        "df.head()"
      ],
      "execution_count": 0,
      "outputs": []
    },
    {
      "cell_type": "code",
      "metadata": {
        "id": "U9ka3Z52dqPg",
        "colab_type": "code",
        "colab": {}
      },
      "source": [
        "df.shape"
      ],
      "execution_count": 0,
      "outputs": []
    },
    {
      "cell_type": "code",
      "metadata": {
        "id": "csVQIF3LgxZe",
        "colab_type": "code",
        "colab": {}
      },
      "source": [
        "df.dtypes"
      ],
      "execution_count": 0,
      "outputs": []
    },
    {
      "cell_type": "code",
      "metadata": {
        "id": "SnUJq438fISW",
        "colab_type": "code",
        "colab": {}
      },
      "source": [
        "df['calories'].head()"
      ],
      "execution_count": 0,
      "outputs": []
    },
    {
      "cell_type": "code",
      "metadata": {
        "id": "HI8-fyMyfP3E",
        "colab_type": "code",
        "colab": {}
      },
      "source": [
        "df['calories'].describe()"
      ],
      "execution_count": 0,
      "outputs": []
    },
    {
      "cell_type": "code",
      "metadata": {
        "id": "fFud1AsYfsgx",
        "colab_type": "code",
        "colab": {}
      },
      "source": [
        "df[['name', 'calories']].sort_values('calories').head(10)"
      ],
      "execution_count": 0,
      "outputs": []
    },
    {
      "cell_type": "code",
      "metadata": {
        "id": "kfOSiqwEfSnd",
        "colab_type": "code",
        "colab": {}
      },
      "source": [
        "df['cups'].head()"
      ],
      "execution_count": 0,
      "outputs": []
    },
    {
      "cell_type": "code",
      "metadata": {
        "id": "y_I5euARfff6",
        "colab_type": "code",
        "colab": {}
      },
      "source": [
        "df['calories_per_cup'] = df['calories'] / df['cups']"
      ],
      "execution_count": 0,
      "outputs": []
    },
    {
      "cell_type": "code",
      "metadata": {
        "id": "cQ-YSVbygEGf",
        "colab_type": "code",
        "colab": {}
      },
      "source": [
        "df['calories_per_cup'].head()"
      ],
      "execution_count": 0,
      "outputs": []
    },
    {
      "cell_type": "code",
      "metadata": {
        "id": "MOOJ-DlCfntJ",
        "colab_type": "code",
        "colab": {}
      },
      "source": [
        "df[['name', 'calories_per_cup']].sort_values('calories_per_cup').head(10)"
      ],
      "execution_count": 0,
      "outputs": []
    },
    {
      "cell_type": "markdown",
      "metadata": {
        "id": "vCU-h6V0ghmM",
        "colab_type": "text"
      },
      "source": [
        "## `matplotlib`\n",
        "\n",
        "There are many Python libraries for plotting, but `matplotlib` is a good first choice.  "
      ]
    },
    {
      "cell_type": "code",
      "metadata": {
        "id": "wGC9YTF9g7dE",
        "colab_type": "code",
        "colab": {}
      },
      "source": [
        "import matplotlib.pyplot as plt"
      ],
      "execution_count": 0,
      "outputs": []
    },
    {
      "cell_type": "markdown",
      "metadata": {
        "id": "suUvAxUfEYzs",
        "colab_type": "text"
      },
      "source": [
        "### Line Plot"
      ]
    },
    {
      "cell_type": "code",
      "metadata": {
        "id": "-tGPjRMciaIg",
        "colab_type": "code",
        "colab": {}
      },
      "source": [
        "x_list = [0, 1, 2, 3, 4, 5, 6, 7, 8, 9]\n",
        "y_list = [square(x) for x in x_list]\n",
        "\n",
        "plt.plot(x_list, y_list)\n",
        "\n",
        "plt.xlabel('x')\n",
        "plt.ylabel('x-squared')\n",
        "plt.title('Demonstrating a matplotlib line plot');"
      ],
      "execution_count": 0,
      "outputs": []
    },
    {
      "cell_type": "markdown",
      "metadata": {
        "id": "EgWxsm9yiUCs",
        "colab_type": "text"
      },
      "source": [
        "`matplotlib` can also be used in conjunction with `pandas` to quickly visualize data.\n",
        "\n",
        "Let's make a few plots based on the cereal dataset.  "
      ]
    },
    {
      "cell_type": "markdown",
      "metadata": {
        "id": "RpBt4O4MEa4Q",
        "colab_type": "text"
      },
      "source": [
        "### Scatter Plot"
      ]
    },
    {
      "cell_type": "code",
      "metadata": {
        "id": "Xb10uMTchx8H",
        "colab_type": "code",
        "colab": {}
      },
      "source": [
        "#Specify figure size\n",
        "plt.figure(figsize=(10, 6))\n",
        "\n",
        "#Scatter plot\n",
        "plt.scatter(df['calories_per_cup'], df['rating'])\n",
        "\n",
        "#Label axes and title\n",
        "plt.xlabel('Calories per Cup', fontsize=12)\n",
        "plt.ylabel('Rating', fontsize=12)\n",
        "plt.title('Ratings do not correlate with calories', fontsize=14)\n",
        "\n",
        "#Set x and y plot limits\n",
        "plt.xlim(0, 505)\n",
        "plt.ylim(0, 105)\n",
        "\n",
        "#Annotate a few cereals\n",
        "plt.annotate('All-Bran with Extra Fiber', (110, 95), \n",
        "             fontstyle='italic', color='xkcd:dark grey')\n",
        "plt.annotate('Grape Nuts', (450, 55), \n",
        "             fontstyle='italic', color='xkcd:dark grey')\n",
        "plt.annotate(\"Cap'n'Crunch\", (160, 12), \n",
        "             fontstyle='italic', color='xkcd:dark grey');"
      ],
      "execution_count": 0,
      "outputs": []
    },
    {
      "cell_type": "markdown",
      "metadata": {
        "id": "gK5s9vxaEc4h",
        "colab_type": "text"
      },
      "source": [
        "### Histogram"
      ]
    },
    {
      "cell_type": "code",
      "metadata": {
        "id": "BHbtccNWlDYS",
        "colab_type": "code",
        "colab": {}
      },
      "source": [
        "plt.figure(figsize=(9, 6))\n",
        "\n",
        "#Add histogram, vertical line, and shading to plot\n",
        "plt.hist(df['fiber'], bins = 14, align='left', edgecolor='white', zorder=2)\n",
        "plt.axvspan(-1, 2.5, alpha=0.2, color='red', zorder=1)\n",
        "plt.axvline(2.5, linestyle='--', linewidth=3, color='red', zorder=3)\n",
        "\n",
        "#Label axes and title\n",
        "plt.xlabel('Fiber per Serving (g)', fontsize=12)\n",
        "plt.ylabel('Number of Cereals', fontsize=12)\n",
        "plt.title('Most cereals contain 2 grams of fiber or less per serving', \n",
        "          fontsize=14)\n",
        "\n",
        "#Set x plot limits\n",
        "plt.xlim(-1, 14);"
      ],
      "execution_count": 0,
      "outputs": []
    },
    {
      "cell_type": "markdown",
      "metadata": {
        "id": "MJPt5NP8DlKp",
        "colab_type": "text"
      },
      "source": [
        "`matplotlib` is **highly** customizable -- notice all the args and kwargs we can set!"
      ]
    },
    {
      "cell_type": "markdown",
      "metadata": {
        "id": "XqaoDDQOe0ei",
        "colab_type": "text"
      },
      "source": [
        "\n",
        "\n",
        "---\n",
        "\n",
        "\n",
        "\n",
        "# Where to go from here?\n",
        "\n",
        "Hopefully you have enjoyed these first steps in Python.  Here are some other great resources:\n",
        "\n",
        "- [CodingBat](https://codingbat.com/python)  *-- Many free, simple exercises*\n",
        "- [LearnPython.org](http://learnpython.org/) *-- Interactive tutorial*\n",
        "- [Learn Python the Hard Way](https://learncodethehardway.org/python/)   *-- Costs a moderate one-time fee*\n",
        "- [CheckiO](https://py.checkio.org/) *-- Gamified Python tasks, view others' solutions*\n",
        "- [GitHub](https://github.com/) *-- Great place to check out what others are working on!*\n",
        "\n",
        "<br>\n",
        "\n",
        "Thanks for joining us today and we wish you all the best for continuing your data science journey!\n",
        "\n",
        "<br>\n",
        "\n",
        "---\n",
        "\n",
        "\n"
      ]
    },
    {
      "cell_type": "markdown",
      "metadata": {
        "id": "3MWlwIv9PjNE",
        "colab_type": "text"
      },
      "source": [
        "## Solutions"
      ]
    },
    {
      "cell_type": "markdown",
      "metadata": {
        "id": "gBmQHcwgPlb1",
        "colab_type": "text"
      },
      "source": [
        "<img src=\"https://drive.google.com/uc?export=view&id=1qUilPF2P2-vxkHW3izVH1_GdrTGq2kvk\"  alt=\"drawing\" height=\"25\"/> \n",
        "**Exercise #1 - Building a List**  _(Solutions to all exercises provide at bottom.)_\n",
        "> Make a list called `my_favorites` that contains three of your favorite things.  Then verify you have made a list by using `type`."
      ]
    },
    {
      "cell_type": "code",
      "metadata": {
        "id": "getH9GCvNmBE",
        "colab_type": "code",
        "colab": {}
      },
      "source": [
        "my_favorites = ['math', 'rollerblading', 'anteaters']"
      ],
      "execution_count": 0,
      "outputs": []
    },
    {
      "cell_type": "code",
      "metadata": {
        "id": "hcrZWiPIQBb2",
        "colab_type": "code",
        "colab": {}
      },
      "source": [
        "type(my_favorites)"
      ],
      "execution_count": 0,
      "outputs": []
    },
    {
      "cell_type": "markdown",
      "metadata": {
        "id": "XtwTM9ZHVfn-",
        "colab_type": "text"
      },
      "source": [
        "<img src=\"https://drive.google.com/uc?export=view&id=1qUilPF2P2-vxkHW3izVH1_GdrTGq2kvk\"  alt=\"drawing\" height=\"25\"/> \n",
        "**Exercise #2 - Looping through a List** \n",
        "> Loop through your `my_favorites` list to print three sentences about the things you like.  For each item in your list you should print, \"I like `item`.\""
      ]
    },
    {
      "cell_type": "code",
      "metadata": {
        "id": "IfDtNVlsQDb_",
        "colab_type": "code",
        "colab": {}
      },
      "source": [
        "for item in my_favorites:\n",
        "  print(\"I like \" + item + \".\")"
      ],
      "execution_count": 0,
      "outputs": []
    },
    {
      "cell_type": "markdown",
      "metadata": {
        "id": "pLrp3u6bXFTJ",
        "colab_type": "text"
      },
      "source": [
        "<img src=\"https://drive.google.com/uc?export=view&id=1qUilPF2P2-vxkHW3izVH1_GdrTGq2kvk\"  alt=\"drawing\" height=\"25\"/> \n",
        "**Exercise #3 - Creating a Dictionary** \n",
        "> Make a dictionary with people's names and ages so you can look up each person's age later.  "
      ]
    },
    {
      "cell_type": "code",
      "metadata": {
        "id": "qwIOcMKNXGDz",
        "colab_type": "code",
        "colab": {}
      },
      "source": [
        "people = {\n",
        "    'Andy': 48,\n",
        "    'Natalie': 17,\n",
        "    'Joyce': 34,\n",
        "    'Mary': 70\n",
        "}"
      ],
      "execution_count": 0,
      "outputs": []
    },
    {
      "cell_type": "code",
      "metadata": {
        "id": "MTKtDyG6XkQ0",
        "colab_type": "code",
        "colab": {}
      },
      "source": [
        "people['Joyce']"
      ],
      "execution_count": 0,
      "outputs": []
    },
    {
      "cell_type": "markdown",
      "metadata": {
        "id": "XZjCAs6dX3ZM",
        "colab_type": "text"
      },
      "source": [
        ">How could you structure your dictionary to store additional information about each person like phone number, email address, etc.?"
      ]
    },
    {
      "cell_type": "code",
      "metadata": {
        "id": "rBEccHx1Xluh",
        "colab_type": "code",
        "colab": {}
      },
      "source": [
        "#Nested dictionaries are great for storing multiple points of information\n",
        "\n",
        "people_info = {\n",
        "    'Andy': {\n",
        "        'age': 48,\n",
        "        'phone': '555-2424',\n",
        "        'email': 'andy123@outlook.com'\n",
        "    },\n",
        "    'Natalie': {\n",
        "        'age': 17,\n",
        "        'email': 'natlady@yahoo.com'\n",
        "    }\n",
        "    \n",
        "}"
      ],
      "execution_count": 0,
      "outputs": []
    },
    {
      "cell_type": "code",
      "metadata": {
        "id": "4rWJ3C7xYNVM",
        "colab_type": "code",
        "colab": {}
      },
      "source": [
        "people_info['Andy']"
      ],
      "execution_count": 0,
      "outputs": []
    },
    {
      "cell_type": "code",
      "metadata": {
        "id": "4NOfxmYjYOy9",
        "colab_type": "code",
        "colab": {}
      },
      "source": [
        "people_info['Natalie']['email']"
      ],
      "execution_count": 0,
      "outputs": []
    },
    {
      "cell_type": "code",
      "metadata": {
        "id": "qBR_Eb3AYQ3N",
        "colab_type": "code",
        "colab": {}
      },
      "source": [
        "people_info['Natalie']['phone']    #Missing information will cause an error"
      ],
      "execution_count": 0,
      "outputs": []
    },
    {
      "cell_type": "code",
      "metadata": {
        "id": "vHMCNYmkYTpt",
        "colab_type": "code",
        "colab": {}
      },
      "source": [
        "people_info['Natalie'].get('phone', 'Missing')   #The get method allows you to provide a default"
      ],
      "execution_count": 0,
      "outputs": []
    },
    {
      "cell_type": "markdown",
      "metadata": {
        "id": "YN0Vsld1ZoLP",
        "colab_type": "text"
      },
      "source": [
        "<img src=\"https://drive.google.com/uc?export=view&id=1qUilPF2P2-vxkHW3izVH1_GdrTGq2kvk\"  alt=\"drawing\" height=\"25\"/> \n",
        "**Exercise #4 - Writing a Function** \n",
        "> Write a function that takes in a number and returns the number cubed plus 7. Then test your function on the number 3."
      ]
    },
    {
      "cell_type": "code",
      "metadata": {
        "id": "eR9daqX3YfRL",
        "colab_type": "code",
        "colab": {}
      },
      "source": [
        "def cube_plus_seven(n):\n",
        "  return n**3 + 7"
      ],
      "execution_count": 0,
      "outputs": []
    },
    {
      "cell_type": "code",
      "metadata": {
        "id": "-48m7oy6ZsEL",
        "colab_type": "code",
        "colab": {}
      },
      "source": [
        "cube_plus_seven(3)"
      ],
      "execution_count": 0,
      "outputs": []
    },
    {
      "cell_type": "markdown",
      "metadata": {
        "id": "HcmKXj8vbSRn",
        "colab_type": "text"
      },
      "source": [
        "<img src=\"https://drive.google.com/uc?export=view&id=1qUilPF2P2-vxkHW3izVH1_GdrTGq2kvk\"  alt=\"drawing\" height=\"25\"/> \n",
        "**Exercise #5 - Greeter Function** \n",
        "> Write a function to greet people.  Given an input `string`, your function should print, \"Hello, `string`!\" "
      ]
    },
    {
      "cell_type": "code",
      "metadata": {
        "id": "Eb3MwlbKZtxY",
        "colab_type": "code",
        "colab": {}
      },
      "source": [
        "def greet(s):\n",
        "  print(\"Hello, \" + s + \"!\")"
      ],
      "execution_count": 0,
      "outputs": []
    },
    {
      "cell_type": "code",
      "metadata": {
        "id": "d78vqhfEbZBI",
        "colab_type": "code",
        "colab": {}
      },
      "source": [
        "greet('Kim')"
      ],
      "execution_count": 0,
      "outputs": []
    },
    {
      "cell_type": "markdown",
      "metadata": {
        "id": "a9GB2bT4bbsl",
        "colab_type": "text"
      },
      "source": [
        "> What happens if someone provides an integer to your function?  Can you make your function more general so that it \"greets\" any kind of input?"
      ]
    },
    {
      "cell_type": "code",
      "metadata": {
        "id": "Wsf3Hlm4baaP",
        "colab_type": "code",
        "colab": {}
      },
      "source": [
        "greet(4)   #The input must be a string for this function"
      ],
      "execution_count": 0,
      "outputs": []
    },
    {
      "cell_type": "code",
      "metadata": {
        "id": "8-DVsuRObi8b",
        "colab_type": "code",
        "colab": {}
      },
      "source": [
        "def greet_general(i):\n",
        "  print(\"Hello, \" + str(i) + \"!\")     #Convert input to a string explicitly"
      ],
      "execution_count": 0,
      "outputs": []
    },
    {
      "cell_type": "code",
      "metadata": {
        "id": "RZnCxymjbyYb",
        "colab_type": "code",
        "colab": {}
      },
      "source": [
        "greet_general(4)"
      ],
      "execution_count": 0,
      "outputs": []
    },
    {
      "cell_type": "code",
      "metadata": {
        "id": "A8UwqYupb4by",
        "colab_type": "code",
        "colab": {}
      },
      "source": [
        "greet_general(['dog', 'cat', 'bird'])  #This function even works on lists!"
      ],
      "execution_count": 0,
      "outputs": []
    },
    {
      "cell_type": "code",
      "metadata": {
        "id": "GZ7ENMD1b7K5",
        "colab_type": "code",
        "colab": {}
      },
      "source": [
        ""
      ],
      "execution_count": 0,
      "outputs": []
    }
  ]
}